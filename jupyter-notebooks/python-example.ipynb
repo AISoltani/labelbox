{
 "cells": [
  {
   "cell_type": "markdown",
   "metadata": {},
   "source": [
    "## Install Labelbox\n",
    "\n",
    "Use Python 3.5 and above\n",
    "\n",
    "https://pypi.org/project/labelbox/\n",
    "\n",
    "pip3 install labelbox"
   ]
  },
  {
   "cell_type": "markdown",
   "metadata": {},
   "source": [
    "### Import & Setup\n"
   ]
  },
  {
   "cell_type": "code",
   "execution_count": 2,
   "metadata": {},
   "outputs": [],
   "source": [
    "import os\n",
    "import labelbox\n",
    "os.environ[\"LABELBOX_API_KEY\"] = 'your_api_key'\n",
    "lb = labelbox.Client()"
   ]
  },
  {
   "cell_type": "markdown",
   "metadata": {},
   "source": [
    "### Uploading or importing data"
   ]
  },
  {
   "cell_type": "markdown",
   "metadata": {},
   "source": [
    "**Upload data from local filesystem**"
   ]
  },
  {
   "cell_type": "code",
   "execution_count": 20,
   "metadata": {},
   "outputs": [
    {
     "name": "stdout",
     "output_type": "stream",
     "text": [
      "Upload complete.\n"
     ]
    }
   ],
   "source": [
    "# Get absolute filepath from the subdirectory\n",
    "local_file_paths = [os.path.abspath(os.path.join(r,file)) for r,d,f in os.walk(\"./sample-data/\") for file in f]\n",
    "\n",
    "#Create a dataset in Labelbox and upload the files\n",
    "dataset = lb.create_dataset(name=\"Tesla dataset upload example\")\n",
    "\n",
    "## Tip: You can use this command to append an existing dataset\n",
    "task = dataset.create_data_rows(local_file_paths)\n",
    "task.wait_till_done()\n",
    "print('Upload complete.')\n"
   ]
  },
  {
   "cell_type": "markdown",
   "metadata": {},
   "source": [
    "**Import data from cloud**"
   ]
  },
  {
   "cell_type": "code",
   "execution_count": 3,
   "metadata": {},
   "outputs": [
    {
     "name": "stdout",
     "output_type": "stream",
     "text": [
      "Total number of files to import:  115\n",
      "Import complete.\n"
     ]
    }
   ],
   "source": [
    "# Create a JSON array containing file URLs.\n",
    "cloud_file_paths = ['https://storage.googleapis.com/labelbox-example-datasets/tesla/2016-tesla-model-x_100554517_h.jpg',\n",
    " 'https://storage.googleapis.com/labelbox-example-datasets/tesla/2016-tesla-model-x_100554518_h.jpg',\n",
    " 'https://storage.googleapis.com/labelbox-example-datasets/tesla/2017-Tesla-Model-3-top-view.jpg',\n",
    " 'https://storage.googleapis.com/labelbox-example-datasets/tesla/2017-Tesla-Model-S-P90D-102.jpg',\n",
    " 'https://storage.googleapis.com/labelbox-example-datasets/tesla/2017-Tesla-Model-X-front-three-quarter-07.jpg',\n",
    " 'https://storage.googleapis.com/labelbox-example-datasets/tesla/2017-tesla-model-x-35-of-161.jpg',\n",
    " 'https://storage.googleapis.com/labelbox-example-datasets/tesla/2017_tesla_model-s_LIFE1_ot_209175_1280.jpg',\n",
    " 'https://storage.googleapis.com/labelbox-example-datasets/tesla/2018-Tesla-Model-3-front-three-quarter-in-motion.jpg',\n",
    " 'https://storage.googleapis.com/labelbox-example-datasets/tesla/Red_Bay-1440.jpg',\n",
    " 'https://storage.googleapis.com/labelbox-example-datasets/tesla/2016-tesla-model-s-17-of-43.jpg',\n",
    " 'https://storage.googleapis.com/labelbox-example-datasets/tesla/2016-tesla-model-x_100554517_h.jpg',\n",
    " 'https://storage.googleapis.com/labelbox-example-datasets/tesla/2016-tesla-model-x_100554518_h.jpg',\n",
    " 'https://storage.googleapis.com/labelbox-example-datasets/tesla/2017-Tesla-Model-3-top-view.jpg',\n",
    " 'https://storage.googleapis.com/labelbox-example-datasets/tesla/2017-Tesla-Model-S-P90D-102.jpg',\n",
    " 'https://storage.googleapis.com/labelbox-example-datasets/tesla/2017-Tesla-Model-X-front-three-quarter-07.jpg',\n",
    " 'https://storage.googleapis.com/labelbox-example-datasets/tesla/2017-tesla-model-x-35-of-161.jpg',\n",
    " 'https://storage.googleapis.com/labelbox-example-datasets/tesla/2017_tesla_model-s_LIFE1_ot_209175_1280.jpg',\n",
    " 'https://storage.googleapis.com/labelbox-example-datasets/tesla/2018-Tesla-Model-3-front-three-quarter-in-motion.jpg',\n",
    " 'https://storage.googleapis.com/labelbox-example-datasets/tesla/Red_Bay-1440.jpg',\n",
    " 'https://storage.googleapis.com/labelbox-example-datasets/tesla/2016-tesla-model-s-17-of-43.jpg',\n",
    " 'https://storage.googleapis.com/labelbox-example-datasets/tesla/2016-tesla-model-x_100554517_h.jpg',\n",
    " 'https://storage.googleapis.com/labelbox-example-datasets/tesla/2016-tesla-model-x_100554518_h.jpg',\n",
    " 'https://storage.googleapis.com/labelbox-example-datasets/tesla/2017-Tesla-Model-3-top-view.jpg',\n",
    " 'https://storage.googleapis.com/labelbox-example-datasets/tesla/2017-Tesla-Model-S-P90D-102.jpg',\n",
    " 'https://storage.googleapis.com/labelbox-example-datasets/tesla/2017-Tesla-Model-X-front-three-quarter-07.jpg',\n",
    " 'https://storage.googleapis.com/labelbox-example-datasets/tesla/2017-tesla-model-x-35-of-161.jpg',\n",
    " 'https://storage.googleapis.com/labelbox-example-datasets/tesla/2017_tesla_model-s_LIFE1_ot_209175_1280.jpg',\n",
    " 'https://storage.googleapis.com/labelbox-example-datasets/tesla/2018-Tesla-Model-3-front-three-quarter-in-motion.jpg',\n",
    " 'https://storage.googleapis.com/labelbox-example-datasets/tesla/Red_Bay-1440.jpg',\n",
    " 'https://storage.googleapis.com/labelbox-example-datasets/tesla/2016-tesla-model-s-17-of-43.jpg',\n",
    " 'https://storage.googleapis.com/labelbox-example-datasets/tesla/2016-tesla-model-x_100554517_h.jpg',\n",
    " 'https://storage.googleapis.com/labelbox-example-datasets/tesla/2016-tesla-model-x_100554518_h.jpg',\n",
    " 'https://storage.googleapis.com/labelbox-example-datasets/tesla/2017-Tesla-Model-3-top-view.jpg',\n",
    " 'https://storage.googleapis.com/labelbox-example-datasets/tesla/2017-Tesla-Model-S-P90D-102.jpg',\n",
    " 'https://storage.googleapis.com/labelbox-example-datasets/tesla/2017-Tesla-Model-X-front-three-quarter-07.jpg',\n",
    " 'https://storage.googleapis.com/labelbox-example-datasets/tesla/2017-tesla-model-x-35-of-161.jpg',\n",
    " 'https://storage.googleapis.com/labelbox-example-datasets/tesla/2017_tesla_model-s_LIFE1_ot_209175_1280.jpg',\n",
    " 'https://storage.googleapis.com/labelbox-example-datasets/tesla/2018-Tesla-Model-3-front-three-quarter-in-motion.jpg',\n",
    " 'https://storage.googleapis.com/labelbox-example-datasets/tesla/Red_Bay-1440.jpg',\n",
    " 'https://storage.googleapis.com/labelbox-example-datasets/tesla/104836109-p100d-review-5.1910x1000.jpeg',\n",
    " 'https://storage.googleapis.com/labelbox-example-datasets/tesla/2012_tesla_model-s_sedan_signature-performance_rq_oem_2_1280.jpg',\n",
    " 'https://storage.googleapis.com/labelbox-example-datasets/tesla/2014_tesla_model-s_sedan_p85_rq_oem_1_1280.jpg',\n",
    " 'https://storage.googleapis.com/labelbox-example-datasets/tesla/2016-Tesla-Model-S-P90D-front-three-quarter.jpg',\n",
    " 'https://storage.googleapis.com/labelbox-example-datasets/tesla/2016-Tesla-Model-X-75d-rear-three-quarter-in-motion-03.jpg',\n",
    " 'https://storage.googleapis.com/labelbox-example-datasets/tesla/2016-Tesla-Model-X-75d-side-profile.jpg',\n",
    " 'https://storage.googleapis.com/labelbox-example-datasets/tesla/2016-tesla-model-s-17-of-43.jpg',\n",
    " 'https://storage.googleapis.com/labelbox-example-datasets/tesla/2016-tesla-model-x_100554517_h.jpg',\n",
    " 'https://storage.googleapis.com/labelbox-example-datasets/tesla/2016-tesla-model-x_100554518_h.jpg',\n",
    " 'https://storage.googleapis.com/labelbox-example-datasets/tesla/2017-Tesla-Model-3-top-view.jpg',\n",
    " 'https://storage.googleapis.com/labelbox-example-datasets/tesla/2017-Tesla-Model-S-P90D-102.jpg',\n",
    " 'https://storage.googleapis.com/labelbox-example-datasets/tesla/2017-Tesla-Model-X-front-three-quarter-07.jpg',\n",
    " 'https://storage.googleapis.com/labelbox-example-datasets/tesla/2017-tesla-model-x-35-of-161.jpg',\n",
    " 'https://storage.googleapis.com/labelbox-example-datasets/tesla/2017_tesla_model-s_LIFE1_ot_209175_1280.jpg',\n",
    " 'https://storage.googleapis.com/labelbox-example-datasets/tesla/2018-Tesla-Model-3-front-three-quarter-in-motion.jpg',\n",
    " 'https://storage.googleapis.com/labelbox-example-datasets/tesla/2120x920-ms-redsunset-1-1.jpg',\n",
    " 'https://storage.googleapis.com/labelbox-example-datasets/tesla/Red_Bay-1440.jpg',\n",
    " 'https://storage.googleapis.com/labelbox-example-datasets/tesla/Red_Profile-1440.jpg',\n",
    " 'https://storage.googleapis.com/labelbox-example-datasets/tesla/Tesla-Model-3-lead-.jpg',\n",
    " 'https://storage.googleapis.com/labelbox-example-datasets/tesla/Tesla-Model-X-1.jpg',\n",
    " 'https://storage.googleapis.com/labelbox-example-datasets/tesla/Tesla-Model3-FINAL.jpg',\n",
    " 'https://storage.googleapis.com/labelbox-example-datasets/tesla/Tesla_model_3_prototype.jpg',\n",
    " 'https://storage.googleapis.com/labelbox-example-datasets/tesla/USC70TSC024B021001.jpg',\n",
    " 'https://storage.googleapis.com/labelbox-example-datasets/tesla/White_Cruise-1440.jpg',\n",
    " 'https://storage.googleapis.com/labelbox-example-datasets/tesla/download.jpeg',\n",
    " 'https://storage.googleapis.com/labelbox-example-datasets/tesla/maxresdefault (1).jpg',\n",
    " 'https://storage.googleapis.com/labelbox-example-datasets/tesla/maxresdefault.jpg',\n",
    " 'https://storage.googleapis.com/labelbox-example-datasets/tesla/model-3-mountain-pearl-1.jpg',\n",
    " 'https://storage.googleapis.com/labelbox-example-datasets/tesla/model-3-social.jpg',\n",
    " 'https://storage.googleapis.com/labelbox-example-datasets/tesla/press05-model-x-profile-doors-open.jpg',\n",
    " 'https://storage.googleapis.com/labelbox-example-datasets/tesla/screen-shot-2015-09-01-at-10-11-14-am.png',\n",
    " 'https://storage.googleapis.com/labelbox-example-datasets/tesla/screen-shot-2017-10-26-at-6-54-43-am-e1510873759643.jpg',\n",
    " 'https://storage.googleapis.com/labelbox-example-datasets/tesla/tesla-model-3-hero-image.jpg',\n",
    " 'https://storage.googleapis.com/labelbox-example-datasets/tesla/tesla-model-3-silver-prototype-promo-shot-headlands.jpg',\n",
    " 'https://storage.googleapis.com/labelbox-example-datasets/tesla/tesla-model-x-720x409.jpg',\n",
    " 'https://storage.googleapis.com/labelbox-example-datasets/tesla/tesla-model-x-promo-shot-3-2.jpg',\n",
    " 'https://storage.googleapis.com/labelbox-example-datasets/tesla/teslamodel3-005.jpg',\n",
    " 'https://storage.googleapis.com/labelbox-example-datasets/tesla/twarren_08202017_1939_0003.0.jpg',\n",
    " 'https://storage.googleapis.com/labelbox-example-datasets/tesla/104836109-p100d-review-5.1910x1000.jpeg',\n",
    " 'https://storage.googleapis.com/labelbox-example-datasets/tesla/2012_tesla_model-s_sedan_signature-performance_rq_oem_2_1280.jpg',\n",
    " 'https://storage.googleapis.com/labelbox-example-datasets/tesla/2014_tesla_model-s_sedan_p85_rq_oem_1_1280.jpg',\n",
    " 'https://storage.googleapis.com/labelbox-example-datasets/tesla/2016-Tesla-Model-S-P90D-front-three-quarter.jpg',\n",
    " 'https://storage.googleapis.com/labelbox-example-datasets/tesla/2016-Tesla-Model-X-75d-rear-three-quarter-in-motion-03.jpg',\n",
    " 'https://storage.googleapis.com/labelbox-example-datasets/tesla/2016-Tesla-Model-X-75d-side-profile.jpg',\n",
    " 'https://storage.googleapis.com/labelbox-example-datasets/tesla/2016-tesla-model-s-17-of-43.jpg',\n",
    " 'https://storage.googleapis.com/labelbox-example-datasets/tesla/2016-tesla-model-x_100554517_h.jpg',\n",
    " 'https://storage.googleapis.com/labelbox-example-datasets/tesla/2016-tesla-model-x_100554518_h.jpg',\n",
    " 'https://storage.googleapis.com/labelbox-example-datasets/tesla/2017-Tesla-Model-3-top-view.jpg',\n",
    " 'https://storage.googleapis.com/labelbox-example-datasets/tesla/2017-Tesla-Model-S-P90D-102.jpg',\n",
    " 'https://storage.googleapis.com/labelbox-example-datasets/tesla/2017-Tesla-Model-X-front-three-quarter-07.jpg',\n",
    " 'https://storage.googleapis.com/labelbox-example-datasets/tesla/2017-tesla-model-x-35-of-161.jpg',\n",
    " 'https://storage.googleapis.com/labelbox-example-datasets/tesla/2017_tesla_model-s_LIFE1_ot_209175_1280.jpg',\n",
    " 'https://storage.googleapis.com/labelbox-example-datasets/tesla/2018-Tesla-Model-3-front-three-quarter-in-motion.jpg',\n",
    " 'https://storage.googleapis.com/labelbox-example-datasets/tesla/2120x920-ms-redsunset-1-1.jpg',\n",
    " 'https://storage.googleapis.com/labelbox-example-datasets/tesla/Red_Bay-1440.jpg',\n",
    " 'https://storage.googleapis.com/labelbox-example-datasets/tesla/Red_Profile-1440.jpg',\n",
    " 'https://storage.googleapis.com/labelbox-example-datasets/tesla/Tesla-Model-3-lead-.jpg',\n",
    " 'https://storage.googleapis.com/labelbox-example-datasets/tesla/Tesla-Model-X-1.jpg',\n",
    " 'https://storage.googleapis.com/labelbox-example-datasets/tesla/Tesla-Model3-FINAL.jpg',\n",
    " 'https://storage.googleapis.com/labelbox-example-datasets/tesla/Tesla_model_3_prototype.jpg',\n",
    " 'https://storage.googleapis.com/labelbox-example-datasets/tesla/USC70TSC024B021001.jpg',\n",
    " 'https://storage.googleapis.com/labelbox-example-datasets/tesla/White_Cruise-1440.jpg',\n",
    " 'https://storage.googleapis.com/labelbox-example-datasets/tesla/download.jpeg',\n",
    " 'https://storage.googleapis.com/labelbox-example-datasets/tesla/maxresdefault (1).jpg',\n",
    " 'https://storage.googleapis.com/labelbox-example-datasets/tesla/maxresdefault.jpg',\n",
    " 'https://storage.googleapis.com/labelbox-example-datasets/tesla/model-3-mountain-pearl-1.jpg',\n",
    " 'https://storage.googleapis.com/labelbox-example-datasets/tesla/model-3-social.jpg',\n",
    " 'https://storage.googleapis.com/labelbox-example-datasets/tesla/press05-model-x-profile-doors-open.jpg',\n",
    " 'https://storage.googleapis.com/labelbox-example-datasets/tesla/screen-shot-2015-09-01-at-10-11-14-am.png',\n",
    " 'https://storage.googleapis.com/labelbox-example-datasets/tesla/screen-shot-2017-10-26-at-6-54-43-am-e1510873759643.jpg',\n",
    " 'https://storage.googleapis.com/labelbox-example-datasets/tesla/tesla-model-3-hero-image.jpg',\n",
    " 'https://storage.googleapis.com/labelbox-example-datasets/tesla/tesla-model-3-silver-prototype-promo-shot-headlands.jpg',\n",
    " 'https://storage.googleapis.com/labelbox-example-datasets/tesla/tesla-model-x-720x409.jpg',\n",
    " 'https://storage.googleapis.com/labelbox-example-datasets/tesla/tesla-model-x-promo-shot-3-2.jpg',\n",
    " 'https://storage.googleapis.com/labelbox-example-datasets/tesla/teslamodel3-005.jpg',\n",
    " 'https://storage.googleapis.com/labelbox-example-datasets/tesla/twarren_08202017_1939_0003.0.jpg']\n",
    "\n",
    "print('Total number of files to import: ', len(cloud_file_paths))\n",
    "\n",
    "#Create a dataset in Labelbox \n",
    "dataset = lb.create_dataset(name=\"Tesla dataset import example\")\n",
    "\n",
    "#Create an array of labelbox datarows\n",
    "converted_cloud_file_paths = []\n",
    "for path in cloud_file_paths:\n",
    "    converted_cloud_file_paths.append({labelbox.DataRow.row_data: path})\n",
    "\n",
    "## Tip: You can use this command to append an existing dataset\n",
    "task = dataset.create_data_rows(converted_cloud_file_paths)\n",
    "task.wait_till_done()\n",
    "print('Import complete.')"
   ]
  },
  {
   "cell_type": "markdown",
   "metadata": {},
   "source": [
    "**Import data from cloud and set external ID**"
   ]
  },
  {
   "cell_type": "code",
   "execution_count": 41,
   "metadata": {},
   "outputs": [
    {
     "name": "stdout",
     "output_type": "stream",
     "text": [
      "Total number of files to import:  115\n",
      "Import complete.\n"
     ]
    }
   ],
   "source": [
    "print('Total number of files to import: ', len(cloud_file_paths))\n",
    "\n",
    "#Create a dataset in Labelbox \n",
    "dataset = lb.create_dataset(name=\"Tesla dataset import example with external ID\")\n",
    "\n",
    "#Create an array of labelbox datarows and set filename as external ID\n",
    "converted_cloud_file_paths = []\n",
    "for path in cloud_file_paths:\n",
    "    converted_cloud_file_paths.append({labelbox.DataRow.row_data: path, labelbox.DataRow.external_id: os.path.basename(path)})\n",
    "\n",
    "## Tip: You can use this command to append an existing dataset\n",
    "task = dataset.create_data_rows(converted_cloud_file_paths)\n",
    "task.wait_till_done()\n",
    "print('Import complete.')"
   ]
  },
  {
   "cell_type": "markdown",
   "metadata": {},
   "source": [
    "**Get all dataset in your account and print name & uid**"
   ]
  },
  {
   "cell_type": "code",
   "execution_count": 4,
   "metadata": {
    "scrolled": true
   },
   "outputs": [
    {
     "name": "stdout",
     "output_type": "stream",
     "text": [
      "Example Tesla Dataset cjhfn5yjt0pka0702rojkb05t\n",
      "Drone Parking lot Images  cjjomd0dej8dw0747t1gf4aly\n",
      "Drone Parking lot maps cjjomdt7xapu00799czurehcu\n",
      "videos cjly8jlk5wj5b0789clp15sjw\n",
      "Clouds cjn6domk8cyw0081360zgmnex\n",
      "FLIR XT Thermal imagery cjn6dpjlranpv0971bzczrof6\n",
      "Tiled Imagery cjn6emdrmaw0s0971w6lv5f3f\n",
      "Cell cjnchpiww0tke0813vu6k6fk4\n",
      "solar thermal cjnciw3hf4jxz0816epblbvb8\n",
      "aerial cars cjnciwd524k3w0816m7xnsdei\n",
      "solar bw cjncizp4x17ih0813ff3lcau2\n",
      "Microscope cells cjnckc9d71l9c0813ycnrwn9l\n",
      "medical.json cjnez74pxo6d208139gm4tdp9\n",
      "example-video-import.json cjnky3nhd0rnw0887bjk6e9hd\n",
      "Cogitotech_3615_homes cjnnux0op2qmk08474uy8c9cc\n",
      "Cogitotech_room_112_534 cjnnux0op2qml0847lduhzrvw\n",
      "Cogitotech_Pet_Camp_7599 cjnnux0op2qmm08476hat63v4\n",
      "Cogitotech_room_112_2 cjnnux0op2qmn08470s0sld9w\n",
      "Cogitotech_homes_2 cjnnux0op2qmo0847ogr5l63h\n",
      "Cogitotech_Pet_Camp_2 cjnnux0op2qmp0847mhcll8t9\n",
      "Cogitotech_room_112_3 cjnnux0op2qmq0847iw74vmdm\n",
      "Cogitotech_Pet_Camp_3 cjnnux0op2qmr0847t0ymjec5\n",
      "retail cjnqachvya57k0996pl0b87oe\n",
      "dronedeploy.json cjnqpio5ol8ni0e898op1w242\n",
      "example-classification-data.json cjoet4u82it020712k5bdow3z\n",
      "Cars cjohh1v4dv8by0712gcg6ml62\n",
      "David Avatars cjohhqtguvjmy07124lwlu0y5\n",
      "David's Avatars cjohhstmliehe0738ejl2dw6u\n",
      "Screenshots of Labelbox competitors cjoozxlsia6y40712wpxtd213\n",
      "Celebrity Faces cjozb8nvd6o1t0d40ylya0ko7\n",
      "Birds of Paradise cjp1iuk8fa0at0975a9eethfp\n",
      "Text Data as Images cjp2yhokk1ct408489dk3y7k5\n",
      "airbnb_example (1).json cjqqzrjm12bx70818o1ny05mp\n",
      "airbnb_CDN.json cjqqzubo82u5a07770wry82s4\n",
      "Full Airplanes Dataset cjqy59yntewzi07778ohn468l\n",
      "asset.json cjr2pk7gpw80g0737afos45lo\n",
      "Labelbox_3000 images.csv cjr72ys7989vk08965y8fbr59\n",
      "Labelbox_Reka 50 images_20181205.csv cjr7322ha2umr0797qgmq3fug\n",
      "Lungs 2 cjr7326xs8ane0896ftp7oltt\n",
      "lungs 1 cjr732g7jb95z0737ddt234rc\n",
      "text1.json cjrle7zc8hfj90b47ukfy9lvf\n",
      "text2.json cjrle9ti6hq3608982rtazdoy\n",
      "text3.json cjrleasinhg3p0b4793z6xxyi\n",
      "text4.json cjrlebpm3hqg208980z0isp1m\n",
      "All State Demo Text.json cjrlt2valtxah0b474544xrds\n",
      "airplanes cjrsmih1hhewh0b47w9pyy0ce\n",
      "baylabs.json cjschgqfnitv80812w3qvr0dp\n",
      "Samsung POC Med cjsdgbrssk2za08125lxbmoou\n",
      "Samsung POC Long cjsdgc7x9jnjn0728613bz8yv\n",
      "Samsung Merged cjsdgsaock1dv0728qcz64o8v\n",
      "Nuscenes: Front CAM  cjse2zzqismzl0728suazzlxt\n",
      "Nuscenes: Back CAM  cjse30hg5t5gi0812l16af1w7\n",
      "feb21_data.csv cjsf39ecn0iy80728i9zr12jl\n",
      "nuScenes teaser v1 cjsggmwmuk7ub0728mi2r6hui\n",
      "Road Labeling Example cjt968ppa1z1l08691xgb48h4\n",
      "People, Cars, Animals cjt9c4wr14u150797m9a86ftj\n",
      "Samasource Delivery QA Dataset cjt9k0zc88cdv0903funl2kxv\n",
      "Samasource Delivery QA Dataset cjta9h4iborpp084739kmoqte\n",
      "Samasource Delivery QA Dataset cjtae32dmr7sy0700fjimi4nw\n",
      "Collages Aerial Imagery cju2442sw5cup0993mrjlfpl2\n",
      "asset_context.json cju24r827jokq0855bg3fujpw\n",
      "demo cju2qj4iw1zaj0801nj0yocew\n",
      "Semantic Segmentation cjvoj1vl5yov20a08fjqu9b7q\n",
      "Semantic Segmentation - Small files cjw8cxj9py4kt0a08qlk6qnhg\n",
      "zebra cjwhzmuzc60ol0984l34oxy9r\n",
      "ocr cjwi0q3g35yay0828uf8pqubz\n",
      "Weeds cjwjm21sf761f08900a2tmic8\n",
      "Birds cjwtkvrutqm9r0811wmgbxqdw\n",
      "Reef cjxmdpfl66fev0848254fmlwc\n",
      "upload.json cjxnyk41enyav0701k4zotfo1\n",
      "Aerial cjxqs0nu78ren0701ga5dns7c\n",
      "Man with ball (draw to back) cjxxr4adkjm7x0846hnm4niaq\n",
      "Satellite buildings cjy7kf3o8lzo40846zfd8q9d0\n",
      "Satellite Roads cjy7kft0pmzi107380f8hhtwt\n",
      "plain.json cjypfnoymonvs0863606ttrrj\n",
      "Samasource Delivery QA Dataset cjyukucyy7zt10838f52lfeva\n",
      "Samasource Delivery QA Dataset cjyuqkq3imzrl0721dwbskecz\n",
      "StanfordCarsTest cjz2adzyli4v50a469ax7q6k2\n",
      "StanfordCarsTrain cjz2b90zxibcy0a467eeaj8fv\n",
      "ChestXrayImages cjz3xblvjpozl0721zc36a9jw\n",
      "tesla_dataset.csv cjz7wco475hxy07638sgokoid\n",
      "SkinLesionAnalysisTowardsMelanomaDetection cjz9rwfontpz50763bx4n1bmd\n",
      "PlantSeedlingsV2 cjza7kegn3vrd0794bot6svdr\n",
      "demo cjzaapweie9pe0a46rsd5agii\n",
      "text.json cjziljf5bzgsk0a4631n3vsj7\n",
      "spectral.json cjziqf7fwsmzh0701wxdwlx57\n",
      "plant for segmentation cjzlwjsstr1pg09446dqnws9o\n",
      "GoogleOpenImages cjzmigywlx58o072117pmkqtk\n",
      "TestUpload cjzuxdlfor7up0721463sxjyq\n",
      "file.json cjzv7asfhsz0g0838l1mrozsu\n",
      "test cjzyd14e1ax1f0a46elyx1lyb\n",
      "Tesla Model 3 upload example ck0blgstt4l9b0944v96hai6f\n",
      "Tesla dataset import example ck0bm56x641930838irsx0240\n",
      "Tesla dataset import example ck0bm8epc2f8c0794giph9y0p\n",
      "Tesla dataset import example with external ID ck0bngujw4r530944jxicpte2\n",
      "maps_sectioned.json ck0bzbjisi7us0848x6u33oex\n",
      "pathology_old.json ck0c0qia954sa0794bb3pkfq4\n",
      "pathology.json ck0c2f8gm7bqe0838otrkg942\n",
      "Tesla dataset import example ck0c2y132hzr00a460sjeujua\n"
     ]
    }
   ],
   "source": [
    "for dataset in list(lb.get_datasets())[:]:\n",
    "    print(dataset.name, dataset.uid)"
   ]
  },
  {
   "cell_type": "markdown",
   "metadata": {},
   "source": [
    "**Get all projects in your account and print name & uid**"
   ]
  },
  {
   "cell_type": "code",
   "execution_count": 7,
   "metadata": {
    "scrolled": true
   },
   "outputs": [
    {
     "name": "stdout",
     "output_type": "stream",
     "text": [
      "Image classification ck08mqe2iqzly072171yglspn\n",
      "Retail  ck071b5y54yvk0794i40stwxj\n",
      "ILA demo cjsgltyg1o2kd0812igh0f4eb\n"
     ]
    }
   ],
   "source": [
    "for project in list(lb.get_projects())[:]:\n",
    "    print(project.name, project.uid)"
   ]
  },
  {
   "cell_type": "markdown",
   "metadata": {},
   "source": [
    "**Create a project and attach the dataset**"
   ]
  },
  {
   "cell_type": "code",
   "execution_count": 9,
   "metadata": {
    "scrolled": true
   },
   "outputs": [
    {
     "data": {
      "text/plain": [
       "[<Dataset ID: ck08sih943gqb084888jjl0g0>]"
      ]
     },
     "execution_count": 9,
     "metadata": {},
     "output_type": "execute_result"
    }
   ],
   "source": [
    "project = lb.create_project(name=\"Created From Pip\")\n",
    "project.datasets.connect(dataset)\n",
    "list(project.datasets())"
   ]
  },
  {
   "cell_type": "markdown",
   "metadata": {},
   "source": [
    "**Delete this project & dataset**"
   ]
  },
  {
   "cell_type": "code",
   "execution_count": 5,
   "metadata": {},
   "outputs": [],
   "source": [
    "dataset.delete()\n",
    "project.delete()"
   ]
  },
  {
   "cell_type": "markdown",
   "metadata": {},
   "source": [
    "**Get all datarows within a dataset**"
   ]
  },
  {
   "cell_type": "code",
   "execution_count": 10,
   "metadata": {},
   "outputs": [
    {
     "name": "stdout",
     "output_type": "stream",
     "text": [
      "<DataRow {'created_at': '2018-05-21T02:38:40.000Z', 'external_id': None, 'row_data': 'https://storage.googleapis.com/labelbox-example-datasets/tesla/2016-tesla-model-s-17-of-43.jpg', 'uid': 'cjhfn5yjt0pkb0702ofkyt4cv', 'updated_at': '2018-05-21T02:38:40.000Z'}>\n",
      "<DataRow {'created_at': '2018-05-21T02:38:40.000Z', 'external_id': None, 'row_data': 'https://storage.googleapis.com/labelbox-example-datasets/tesla/2016-tesla-model-x_100554517_h.jpg', 'uid': 'cjhfn5yjt0pkc0702vi10obbv', 'updated_at': '2018-05-21T02:38:40.000Z'}>\n",
      "<DataRow {'created_at': '2018-05-21T02:38:40.000Z', 'external_id': None, 'row_data': 'https://storage.googleapis.com/labelbox-example-datasets/tesla/2016-tesla-model-x_100554518_h.jpg', 'uid': 'cjhfn5yjt0pkd0702q60u2i4f', 'updated_at': '2018-05-21T02:38:40.000Z'}>\n",
      "<DataRow {'created_at': '2018-05-21T02:38:40.000Z', 'external_id': None, 'row_data': 'https://storage.googleapis.com/labelbox-example-datasets/tesla/2017-Tesla-Model-3-top-view.jpg', 'uid': 'cjhfn5yjt0pke070218t2mioy', 'updated_at': '2018-05-21T02:38:40.000Z'}>\n",
      "<DataRow {'created_at': '2018-05-21T02:38:40.000Z', 'external_id': None, 'row_data': 'https://storage.googleapis.com/labelbox-example-datasets/tesla/2017-Tesla-Model-S-P90D-102.jpg', 'uid': 'cjhfn5yjt0pkf0702qla7kkm0', 'updated_at': '2018-05-21T02:38:40.000Z'}>\n",
      "<DataRow {'created_at': '2018-05-21T02:38:41.000Z', 'external_id': None, 'row_data': 'https://storage.googleapis.com/labelbox-example-datasets/tesla/2017-Tesla-Model-X-front-three-quarter-07.jpg', 'uid': 'cjhfn5yjt0pkg0702lsaywm7z', 'updated_at': '2018-05-21T02:38:41.000Z'}>\n",
      "<DataRow {'created_at': '2018-05-21T02:38:41.000Z', 'external_id': None, 'row_data': 'https://storage.googleapis.com/labelbox-example-datasets/tesla/2017-tesla-model-x-35-of-161.jpg', 'uid': 'cjhfn5yjt0pkh0702risxf5rc', 'updated_at': '2018-05-21T02:38:41.000Z'}>\n",
      "<DataRow {'created_at': '2018-05-21T02:38:41.000Z', 'external_id': None, 'row_data': 'https://storage.googleapis.com/labelbox-example-datasets/tesla/2017_tesla_model-s_LIFE1_ot_209175_1280.jpg', 'uid': 'cjhfn5yjt0pki0702icnthsie', 'updated_at': '2018-05-21T02:38:41.000Z'}>\n",
      "<DataRow {'created_at': '2018-05-21T02:38:41.000Z', 'external_id': None, 'row_data': 'https://storage.googleapis.com/labelbox-example-datasets/tesla/2018-Tesla-Model-3-front-three-quarter-in-motion.jpg', 'uid': 'cjhfn5yjt0pkj0702gpcy7uln', 'updated_at': '2018-05-21T02:38:41.000Z'}>\n",
      "<DataRow {'created_at': '2018-05-21T02:38:41.000Z', 'external_id': None, 'row_data': 'https://storage.googleapis.com/labelbox-example-datasets/tesla/Red_Bay-1440.jpg', 'uid': 'cjhfn5yjt0pkk07027ua3hscu', 'updated_at': '2018-05-21T02:38:41.000Z'}>\n"
     ]
    }
   ],
   "source": [
    "dataset = lb.get_dataset('cjhfn5yjt0pka0702rojkb05t')\n",
    "for data_row in dataset.data_rows():\n",
    "    print(data_row)"
   ]
  },
  {
   "cell_type": "code",
   "execution_count": null,
   "metadata": {},
   "outputs": [],
   "source": []
  }
 ],
 "metadata": {
  "kernelspec": {
   "display_name": "Python 3",
   "language": "python",
   "name": "python3"
  },
  "language_info": {
   "codemirror_mode": {
    "name": "ipython",
    "version": 3
   },
   "file_extension": ".py",
   "mimetype": "text/x-python",
   "name": "python",
   "nbconvert_exporter": "python",
   "pygments_lexer": "ipython3",
   "version": "3.6.6"
  }
 },
 "nbformat": 4,
 "nbformat_minor": 2
}
